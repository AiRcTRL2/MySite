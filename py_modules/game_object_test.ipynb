{
 "cells": [
  {
   "cell_type": "code",
   "execution_count": 54,
   "metadata": {},
   "outputs": [],
   "source": [
    "import get_xbox\n",
    "import set_database\n",
    "import goldmine\n",
    "import set_database\n",
    "import get_metadata\n",
    "import datetime"
   ]
  },
  {
   "cell_type": "code",
   "execution_count": 55,
   "metadata": {},
   "outputs": [],
   "source": [
    "class GameObject:\n",
    "    \"\"\" The purpose of this class is to implement all other available modules which help construct game\n",
    "        information and collect metadata prior to exporting this to a database.\n",
    "\n",
    "        The only information it assumes to be supplied is the game name and platform (optional),\n",
    "        and should resolve to an error if this is incorrect.\n",
    "    \"\"\"\n",
    "\n",
    "    def __init__(self, game_name, game_platform=None):\n",
    "        self.game_name = game_name\n",
    "        self.game_rating = None\n",
    "        self.game_img_loc = None\n",
    "        self.game_genres = None\n",
    "        self.game_platform = game_platform\n",
    "        self.game_cost_at_store = None\n",
    "        self.game_found = False\n",
    "        self.record_created = datetime.datetime.now().strftime(\"%d/%m/%Y\")\n",
    "        self.meta_critic_urls = None\n",
    "        self.fetch_failed = False\n",
    "\n",
    "    def set_metadata(self):\n",
    "        # format game name for applicable urls at metacritic.com\n",
    "        fmt_game_name = self.game_name.replace(':', \"\")\n",
    "        fmt_game_name = fmt_game_name.replace(\" \", \"-\")\n",
    "        fmt_game_name = fmt_game_name.lower()\n",
    "\n",
    "        # send request to metacritic to get rating/\n",
    "        data = get_metadata.get_metadata(fmt_game_name)\n",
    "\n",
    "        # set the objects values to return values from metacritic\n",
    "        self.game_genres = list(data[1])\n",
    "\n",
    "        # cycle through tested platforms and find valid platforms\n",
    "        temp_list = []\n",
    "        for platform in data[0]:\n",
    "            if data[0][platform]:\n",
    "                temp_list.append(platform)\n",
    "        self.game_platform = temp_list\n",
    "\n",
    "        # game rating\n",
    "        self.game_rating = data[0]\n",
    "\n",
    "        # send request to microsoft to get artwork / price at store\n",
    "        msoft_img_price = get_xbox.get_xbox_details(self.game_name)\n",
    "        \n",
    "        # initialise msoft_img_price_lower\n",
    "        msoft_img_price_lower = None\n",
    "        \n",
    "        # below occaisionally fails, but usually not twice in a row. If fail, try again\n",
    "        try:\n",
    "            msoft_img_price_lower = dict((key.lower(), value) for key, value in msoft_img_price.items())\n",
    "        except AttributeError:\n",
    "            self.fetch_failed = True\n",
    "            print(\"Error occurred with initial get_xbox_details query, thus except invalidated. Please send the\"\n",
    "                  \"request again\")\n",
    "        \n",
    "        if msoft_img_price_lower != None:\n",
    "            for key in msoft_img_price_lower:\n",
    "                if self.game_name in key:\n",
    "                    # print(msoft_img_price_lower.get(key))\n",
    "                    self.game_img_loc = msoft_img_price_lower.get(key)[0]\n",
    "                    try:\n",
    "                        self.game_img_loc = self.game_img_loc.replace(\"h=300&w=200\", \"w=720\")\n",
    "                    except:\n",
    "                        pass\n",
    "                    self.game_cost_at_store = msoft_img_price_lower.get(key)[1]\n",
    "                    self.game_name = key\n",
    "                    break\n",
    "        else:\n",
    "            print(\"The dictionary is empty.\")            \n",
    "\n",
    "        try:\n",
    "            self.game_name = self.game_name.strip(\" pre-order\")\n",
    "        except:\n",
    "            pass\n",
    "\n",
    "        # metacritic urls\n",
    "        self.meta_critic_urls = data[2]\n",
    "\n",
    "    def get_game_data(self):\n",
    "        print(self.game_name)\n",
    "        print(self.game_rating)\n",
    "        print(self.game_img_loc)\n",
    "        print(self.game_genres)\n",
    "        print(self.game_platform)\n",
    "        print(self.game_cost_at_store)\n",
    "        print(self.record_created)\n",
    "        print(self.meta_critic_urls)\n",
    "        return self.game_name, self.game_rating, self.game_img_loc, self.game_genres, self.game_platform,\\\n",
    "            self.game_cost_at_store, self.record_created, self.meta_critic_urls\n",
    "\n",
    "    def queries(self):\n",
    "        query_list = []\n",
    "        insert_game_name = \"\"\" INSERT INTO games_database\\\n",
    "        (game_id, game_name, game_trailer, date_recorded)\\\n",
    "        VALUES (NULL,%s,%s,%s); \"\"\"\n",
    "        vals = (self.game_name, \"www.youtube.com\", self.record_created)\n",
    "        query_list.append(insert_game_name)\n",
    "        print(query_list)\n",
    "\n",
    "        for query in query_list:\n",
    "            set_database.send_to_db(query,vals)"
   ]
  },
  {
   "cell_type": "code",
   "execution_count": 56,
   "metadata": {},
   "outputs": [],
   "source": [
    "fifa = GameObject(\"borderlands 3\")\n"
   ]
  },
  {
   "cell_type": "code",
   "execution_count": 57,
   "metadata": {},
   "outputs": [],
   "source": [
    "fifa.set_metadata()"
   ]
  },
  {
   "cell_type": "code",
   "execution_count": 58,
   "metadata": {},
   "outputs": [
    {
     "name": "stdout",
     "output_type": "stream",
     "text": [
      "borderlands 3\n",
      "{'Xbox One': 'Rating not currently available.', 'Playstation 4': 'Rating not currently available.', 'PC': 'Rating not currently available.', 'Nintendo Switch': False}\n",
      "//store-images.s-microsoft.com/image/apps.29198.64533163757722640.6f7413b4-c2c4-4451-8064-60774a6d143e.e0f7a7f8-ab7d-458a-a4fc-2bfc8a8fbfcc\n",
      "['First-Person', 'Shooter', 'Action', 'Arcade']\n",
      "['Xbox One', 'Playstation 4', 'PC']\n",
      "€69.99\n",
      "11/07/2019\n",
      "{'Xbox One': 'https://www.metacritic.com/game/xbox-one/borderlands-3', 'Playstation 4': 'https://www.metacritic.com/game/playstation-4/borderlands-3', 'PC': 'https://www.metacritic.com/game/pc/borderlands-3'}\n"
     ]
    },
    {
     "data": {
      "text/plain": [
       "('borderlands 3',\n",
       " {'Xbox One': 'Rating not currently available.',\n",
       "  'Playstation 4': 'Rating not currently available.',\n",
       "  'PC': 'Rating not currently available.',\n",
       "  'Nintendo Switch': False},\n",
       " '//store-images.s-microsoft.com/image/apps.29198.64533163757722640.6f7413b4-c2c4-4451-8064-60774a6d143e.e0f7a7f8-ab7d-458a-a4fc-2bfc8a8fbfcc',\n",
       " ['First-Person', 'Shooter', 'Action', 'Arcade'],\n",
       " ['Xbox One', 'Playstation 4', 'PC'],\n",
       " '€69.99',\n",
       " '11/07/2019',\n",
       " {'Xbox One': 'https://www.metacritic.com/game/xbox-one/borderlands-3',\n",
       "  'Playstation 4': 'https://www.metacritic.com/game/playstation-4/borderlands-3',\n",
       "  'PC': 'https://www.metacritic.com/game/pc/borderlands-3'})"
      ]
     },
     "execution_count": 58,
     "metadata": {},
     "output_type": "execute_result"
    }
   ],
   "source": [
    "fifa.get_game_data()"
   ]
  },
  {
   "cell_type": "code",
   "execution_count": 59,
   "metadata": {},
   "outputs": [
    {
     "name": "stdout",
     "output_type": "stream",
     "text": [
      "[' INSERT INTO games_database        (game_id, game_name, game_trailer, date_recorded)        VALUES (NULL,%s,%s,%s); ']\n"
     ]
    },
    {
     "ename": "TypeError",
     "evalue": "send_to_db() takes 1 positional argument but 2 were given",
     "output_type": "error",
     "traceback": [
      "\u001b[1;31m---------------------------------------------------------------------------\u001b[0m",
      "\u001b[1;31mTypeError\u001b[0m                                 Traceback (most recent call last)",
      "\u001b[1;32m<ipython-input-59-640015096b7a>\u001b[0m in \u001b[0;36m<module>\u001b[1;34m\u001b[0m\n\u001b[1;32m----> 1\u001b[1;33m \u001b[0mfifa\u001b[0m\u001b[1;33m.\u001b[0m\u001b[0mqueries\u001b[0m\u001b[1;33m(\u001b[0m\u001b[1;33m)\u001b[0m\u001b[1;33m\u001b[0m\u001b[1;33m\u001b[0m\u001b[0m\n\u001b[0m",
      "\u001b[1;32m<ipython-input-55-8769a33c17a7>\u001b[0m in \u001b[0;36mqueries\u001b[1;34m(self)\u001b[0m\n\u001b[0;32m    100\u001b[0m \u001b[1;33m\u001b[0m\u001b[0m\n\u001b[0;32m    101\u001b[0m         \u001b[1;32mfor\u001b[0m \u001b[0mquery\u001b[0m \u001b[1;32min\u001b[0m \u001b[0mquery_list\u001b[0m\u001b[1;33m:\u001b[0m\u001b[1;33m\u001b[0m\u001b[1;33m\u001b[0m\u001b[0m\n\u001b[1;32m--> 102\u001b[1;33m             \u001b[0mset_database\u001b[0m\u001b[1;33m.\u001b[0m\u001b[0msend_to_db\u001b[0m\u001b[1;33m(\u001b[0m\u001b[0mquery\u001b[0m\u001b[1;33m,\u001b[0m\u001b[0mvals\u001b[0m\u001b[1;33m)\u001b[0m\u001b[1;33m\u001b[0m\u001b[1;33m\u001b[0m\u001b[0m\n\u001b[0m",
      "\u001b[1;31mTypeError\u001b[0m: send_to_db() takes 1 positional argument but 2 were given"
     ]
    }
   ],
   "source": [
    "fifa.queries()"
   ]
  },
  {
   "cell_type": "code",
   "execution_count": null,
   "metadata": {},
   "outputs": [],
   "source": []
  }
 ],
 "metadata": {
  "kernelspec": {
   "display_name": "Python 3",
   "language": "python",
   "name": "python3"
  },
  "language_info": {
   "codemirror_mode": {
    "name": "ipython",
    "version": 3
   },
   "file_extension": ".py",
   "mimetype": "text/x-python",
   "name": "python",
   "nbconvert_exporter": "python",
   "pygments_lexer": "ipython3",
   "version": "3.7.3"
  }
 },
 "nbformat": 4,
 "nbformat_minor": 2
}
