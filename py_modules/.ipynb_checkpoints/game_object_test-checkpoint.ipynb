{
 "cells": [
  {
   "cell_type": "code",
   "execution_count": 43,
   "metadata": {},
   "outputs": [],
   "source": [
    "import get_xbox\n",
    "import set_database\n",
    "import goldmine\n",
    "import set_database\n",
    "import get_metadata\n",
    "import datetime"
   ]
  },
  {
   "cell_type": "code",
   "execution_count": 44,
   "metadata": {},
   "outputs": [],
   "source": [
    "class GameObject:\n",
    "    \"\"\" The purpose of this class is to implement all other available modules which help construct game\n",
    "        information and collect metadata prior to exporting this to a database.\n",
    "\n",
    "        The only information it assumes to be supplied is the game name and platform (optional),\n",
    "        and should resolve to an error if this is incorrect.\n",
    "    \"\"\"\n",
    "\n",
    "    def __init__(self, game_name, game_platform=None):\n",
    "        self.game_name = game_name\n",
    "        self.game_rating = None\n",
    "        self.game_img_loc = None\n",
    "        self.game_genres = None\n",
    "        self.game_platform = game_platform\n",
    "        self.game_cost_at_store = None\n",
    "        self.game_found = False\n",
    "        self.record_created = datetime.datetime.now().strftime(\"%d/%m/%Y\")\n",
    "        self.meta_critic_urls = None\n",
    "        self.fetch_failed = False\n",
    "\n",
    "    def set_metadata(self):\n",
    "        # format game name for applicable urls at metacritic.com\n",
    "        fmt_game_name = self.game_name.replace(':', \"\")\n",
    "        fmt_game_name = fmt_game_name.replace(\" \", \"-\")\n",
    "        fmt_game_name = fmt_game_name.lower()\n",
    "\n",
    "        # send request to metacritic to get rating/\n",
    "        data = get_metadata.get_metadata(fmt_game_name)\n",
    "\n",
    "        # set the objects values to return values from metacritic\n",
    "        self.game_genres = list(data[1])\n",
    "\n",
    "        # cycle through tested platforms and find valid platforms\n",
    "        temp_list = []\n",
    "        for platform in data[0]:\n",
    "            if data[0][platform]:\n",
    "                temp_list.append(platform)\n",
    "        self.game_platform = temp_list\n",
    "\n",
    "        # game rating\n",
    "        self.game_rating = data[0]\n",
    "\n",
    "        # send request to microsoft to get artwork / price at store\n",
    "        msoft_img_price = get_xbox.get_xbox_details(self.game_name)\n",
    "        \n",
    "        # initialise msoft_img_price_lower\n",
    "        msoft_img_price_lower = None\n",
    "        \n",
    "        # below occaisionally fails, but usually not twice in a row. If fail, try again\n",
    "        try:\n",
    "            msoft_img_price_lower = dict((key.lower(), value) for key, value in msoft_img_price.items())\n",
    "        except AttributeError:\n",
    "            self.fetch_failed = True\n",
    "            print(\"Error occurred with initial get_xbox_details query, thus except invalidated. Please send the\"\n",
    "                  \"request again\")\n",
    "        \n",
    "        if msoft_img_price_lower != None:\n",
    "            for key in msoft_img_price_lower:\n",
    "                if self.game_name in key:\n",
    "                    # print(msoft_img_price_lower.get(key))\n",
    "                    self.game_img_loc = msoft_img_price_lower.get(key)[0]\n",
    "                    try:\n",
    "                        self.game_img_loc = self.game_img_loc.replace(\"h=300&w=200\", \"w=720\")\n",
    "                    except:\n",
    "                        pass\n",
    "                    self.game_cost_at_store = msoft_img_price_lower.get(key)[1]\n",
    "                    self.game_name = key\n",
    "                    break\n",
    "        else:\n",
    "            print(\"The dictionary is empty.\")            \n",
    "\n",
    "        try:\n",
    "            self.game_name = self.game_name.strip(\" pre-order\")\n",
    "        except:\n",
    "            pass\n",
    "\n",
    "        # metacritic urls\n",
    "        self.meta_critic_urls = data[2]\n",
    "\n",
    "    def get_game_data(self):\n",
    "        print(self.game_name)\n",
    "        print(self.game_rating)\n",
    "        print(self.game_img_loc)\n",
    "        print(self.game_genres)\n",
    "        print(self.game_platform)\n",
    "        print(self.game_cost_at_store)\n",
    "        print(self.record_created)\n",
    "        print(self.meta_critic_urls)\n",
    "        return self.game_name, self.game_rating, self.game_img_loc, self.game_genres, self.game_platform,\\\n",
    "            self.game_cost_at_store, self.record_created, self.meta_critic_urls\n",
    "\n",
    "    def queries(self):\n",
    "        query_list = []\n",
    "        insert_game_name = \"\"\" INSERT INTO games_database\\\n",
    "        (game_id, game_name, game_trailer, date_recorded)\\\n",
    "        VALUES (NULL,%s,%s,%s); \"\"\"\n",
    "        vals = (self.game_name, \"www.youtube.com\", self.record_created)\n",
    "        query_list.append(insert_game_name)\n",
    "        print(query_list)\n",
    "\n",
    "        for query in query_list:\n",
    "            set_database.send_to_db(query,vals)"
   ]
  },
  {
   "cell_type": "code",
   "execution_count": 45,
   "metadata": {},
   "outputs": [],
   "source": [
    "fifa = GameObject(\"borderlands 3\")\n"
   ]
  },
  {
   "cell_type": "code",
   "execution_count": 46,
   "metadata": {},
   "outputs": [
    {
     "name": "stdout",
     "output_type": "stream",
     "text": [
      "Error occurred with initial get_xbox_details query, thus except invalidated. Please send therequest again\n"
     ]
    },
    {
     "ename": "UnboundLocalError",
     "evalue": "local variable 'msoft_img_price_lower' referenced before assignment",
     "output_type": "error",
     "traceback": [
      "\u001b[1;31m---------------------------------------------------------------------------\u001b[0m",
      "\u001b[1;31mUnboundLocalError\u001b[0m                         Traceback (most recent call last)",
      "\u001b[1;32m<ipython-input-46-4eb9c1cdaeea>\u001b[0m in \u001b[0;36m<module>\u001b[1;34m\u001b[0m\n\u001b[1;32m----> 1\u001b[1;33m \u001b[0mfifa\u001b[0m\u001b[1;33m.\u001b[0m\u001b[0mset_metadata\u001b[0m\u001b[1;33m(\u001b[0m\u001b[1;33m)\u001b[0m\u001b[1;33m\u001b[0m\u001b[1;33m\u001b[0m\u001b[0m\n\u001b[0m",
      "\u001b[1;32m<ipython-input-44-109d2db23a82>\u001b[0m in \u001b[0;36mset_metadata\u001b[1;34m(self)\u001b[0m\n\u001b[0;32m     51\u001b[0m                   \"request again\")\n\u001b[0;32m     52\u001b[0m \u001b[1;33m\u001b[0m\u001b[0m\n\u001b[1;32m---> 53\u001b[1;33m         \u001b[1;32mfor\u001b[0m \u001b[0mkey\u001b[0m \u001b[1;32min\u001b[0m \u001b[0mmsoft_img_price_lower\u001b[0m\u001b[1;33m:\u001b[0m\u001b[1;33m\u001b[0m\u001b[1;33m\u001b[0m\u001b[0m\n\u001b[0m\u001b[0;32m     54\u001b[0m             \u001b[1;32mif\u001b[0m \u001b[0mself\u001b[0m\u001b[1;33m.\u001b[0m\u001b[0mgame_name\u001b[0m \u001b[1;32min\u001b[0m \u001b[0mkey\u001b[0m\u001b[1;33m:\u001b[0m\u001b[1;33m\u001b[0m\u001b[1;33m\u001b[0m\u001b[0m\n\u001b[0;32m     55\u001b[0m                 \u001b[1;31m# print(msoft_img_price_lower.get(key))\u001b[0m\u001b[1;33m\u001b[0m\u001b[1;33m\u001b[0m\u001b[1;33m\u001b[0m\u001b[0m\n",
      "\u001b[1;31mUnboundLocalError\u001b[0m: local variable 'msoft_img_price_lower' referenced before assignment"
     ]
    }
   ],
   "source": [
    "fifa.set_metadata()"
   ]
  },
  {
   "cell_type": "code",
   "execution_count": null,
   "metadata": {},
   "outputs": [],
   "source": [
    "fifa.get_game_data()"
   ]
  },
  {
   "cell_type": "code",
   "execution_count": null,
   "metadata": {},
   "outputs": [],
   "source": [
    "fifa.queries()"
   ]
  },
  {
   "cell_type": "code",
   "execution_count": null,
   "metadata": {},
   "outputs": [],
   "source": []
  }
 ],
 "metadata": {
  "kernelspec": {
   "display_name": "Python 3",
   "language": "python",
   "name": "python3"
  },
  "language_info": {
   "codemirror_mode": {
    "name": "ipython",
    "version": 3
   },
   "file_extension": ".py",
   "mimetype": "text/x-python",
   "name": "python",
   "nbconvert_exporter": "python",
   "pygments_lexer": "ipython3",
   "version": "3.7.3"
  }
 },
 "nbformat": 4,
 "nbformat_minor": 2
}
